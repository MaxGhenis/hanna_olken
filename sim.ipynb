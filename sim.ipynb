{
 "cells": [
  {
   "cell_type": "markdown",
   "metadata": {
    "colab_type": "text",
    "id": "Za_a_wMLDw9H"
   },
   "source": [
    "# Simulation to extend Hanna & Olken (2018)\n",
    "## Universal Basic Incomes versus Targeted Transfers: Anti-Poverty Programs in Developing Countries\n",
    "\n",
    "Consider different budget levels, and a mix of UBI and targeted transfers.\n",
    "\n",
    "Simulation notebook.\n",
    "\n",
    "## Setup"
   ]
  },
  {
   "cell_type": "code",
   "execution_count": 1,
   "metadata": {},
   "outputs": [],
   "source": [
    "def import_or_install(package, pip_install=None):\n",
    "    \"\"\" Try to install a package, and pip install if it's unavailable.\n",
    "    \n",
    "    Args:\n",
    "        package: Package name.\n",
    "        pip_install: Location to pip install from.\n",
    "            Runs `pip install [package]` if not provided.\n",
    "    \"\"\"\n",
    "    import pip\n",
    "    if pip_install is None:\n",
    "        pip_install = package\n",
    "    try:\n",
    "        __import__(package)\n",
    "    except ImportError:\n",
    "        pip.main(['install', package])"
   ]
  },
  {
   "cell_type": "code",
   "execution_count": 2,
   "metadata": {},
   "outputs": [],
   "source": [
    "import_or_install('pandarallel')"
   ]
  },
  {
   "cell_type": "code",
   "execution_count": 3,
   "metadata": {
    "colab": {},
    "colab_type": "code",
    "id": "BqNZMfIjEE3c"
   },
   "outputs": [],
   "source": [
    "import pandas as pd\n",
    "import numpy as np\n",
    "import os\n",
    "import microdf as mdf"
   ]
  },
  {
   "cell_type": "code",
   "execution_count": 4,
   "metadata": {
    "colab": {
     "base_uri": "https://localhost:8080/",
     "height": 53
    },
    "colab_type": "code",
    "id": "sfsUpDuIG3nt",
    "outputId": "61ee7358-c5db-4bfc-f25b-f56a07157ad2"
   },
   "outputs": [
    {
     "name": "stdout",
     "output_type": "stream",
     "text": [
      "INFO: Pandarallel will run on 4 workers.\n",
      "INFO: Pandarallel will use Memory file system to transfer data between the main process and workers.\n"
     ]
    }
   ],
   "source": [
    "from pandarallel import pandarallel\n",
    "pandarallel.initialize()"
   ]
  },
  {
   "cell_type": "markdown",
   "metadata": {
    "colab_type": "text",
    "id": "_2DxD2dEEHlm"
   },
   "source": [
    "## Load data\n",
    "\n",
    "[This notebook](https://colab.research.google.com/drive/1dxg8kjXHV7Fc-qKlaA0LjNPFrzLD0JVM) downloads this file directly from the Census Bureau."
   ]
  },
  {
   "cell_type": "code",
   "execution_count": 5,
   "metadata": {
    "colab": {},
    "colab_type": "code",
    "id": "lcTuunV-bIgx"
   },
   "outputs": [],
   "source": [
    "SPM_COLS = ['SPM_ID', 'SPM_NUMPER', 'SPM_RESOURCES', 'SPM_POVTHRESHOLD',\n",
    "            'SPM_WEIGHT']"
   ]
  },
  {
   "cell_type": "code",
   "execution_count": 6,
   "metadata": {
    "colab": {},
    "colab_type": "code",
    "id": "82C6R0e9jRCi"
   },
   "outputs": [],
   "source": [
    "raw = pd.read_csv(\n",
    "    'https://github.com/MaxGhenis/datarepo/raw/master/pppub19.csv.gz',\n",
    "    usecols=SPM_COLS + ['MARSUPWT'])"
   ]
  },
  {
   "cell_type": "markdown",
   "metadata": {
    "colab_type": "text",
    "id": "wIxECt1tXhgb"
   },
   "source": [
    "Source: [World Bank](https://data.worldbank.org/indicator/NY.GDP.MKTP.CD?locations=US) (as of 2018)"
   ]
  },
  {
   "cell_type": "code",
   "execution_count": 7,
   "metadata": {
    "colab": {},
    "colab_type": "code",
    "id": "-w_Y-dWKXdWF"
   },
   "outputs": [],
   "source": [
    "US_GDP = 20.5e12"
   ]
  },
  {
   "cell_type": "markdown",
   "metadata": {
    "colab_type": "text",
    "id": "8NWvLJIolX2Z"
   },
   "source": [
    "## Preprocess"
   ]
  },
  {
   "cell_type": "code",
   "execution_count": 8,
   "metadata": {
    "colab": {},
    "colab_type": "code",
    "id": "qqTzxesaEn-J"
   },
   "outputs": [],
   "source": [
    "u = raw.groupby(SPM_COLS).sum()\n",
    "u.reset_index([i for i in SPM_COLS if i != 'SPM_ID'], inplace=True)"
   ]
  },
  {
   "cell_type": "markdown",
   "metadata": {
    "colab_type": "text",
    "id": "0LjpyivmbkPw"
   },
   "source": [
    "Define `y` to be resources per person. Set values below \\$1 to \\$1 so that CRRA works."
   ]
  },
  {
   "cell_type": "code",
   "execution_count": 9,
   "metadata": {
    "colab": {},
    "colab_type": "code",
    "id": "3_WnLIOvbiEf"
   },
   "outputs": [],
   "source": [
    "u['y0'] = np.maximum(1., u.SPM_RESOURCES / u.SPM_NUMPER)"
   ]
  },
  {
   "cell_type": "code",
   "execution_count": 10,
   "metadata": {
    "colab": {},
    "colab_type": "code",
    "id": "60ahcD2SbbcS"
   },
   "outputs": [],
   "source": [
    "u['w'] = u.SPM_WEIGHT / 100"
   ]
  },
  {
   "cell_type": "markdown",
   "metadata": {
    "colab_type": "text",
    "id": "0Z9XS7LDpFf6"
   },
   "source": [
    "Assign weighted rank by income."
   ]
  },
  {
   "cell_type": "code",
   "execution_count": 11,
   "metadata": {
    "colab": {},
    "colab_type": "code",
    "id": "-fSRrWKrovx0"
   },
   "outputs": [],
   "source": [
    "u.sort_values('y0', inplace=True)\n",
    "u['y0_rank'] = u.w.cumsum()\n",
    "u['y0_pr'] = u.y0_rank / u.w.sum()"
   ]
  },
  {
   "cell_type": "markdown",
   "metadata": {
    "colab_type": "text",
    "id": "HUXriEnMknVO"
   },
   "source": [
    "### Add noisy income\n",
    "\n",
    "The actual value of the noisy income isn't important, since it's only used for ranking households. Therefore, random normal noise is sufficient.\n",
    "\n",
    "Set noise level to match Hanna and Olken's model:\n",
    "> The typical fit we found of these regressions (the R2) is between 0.53 and 0.66\n",
    "\n",
    "Their [appendix](https://www.aeaweb.org/content/file?id=8344) shows that they were predicting log income.\n",
    "\n",
    "Shoot for average: 0.595."
   ]
  },
  {
   "cell_type": "code",
   "execution_count": 12,
   "metadata": {
    "colab": {},
    "colab_type": "code",
    "id": "fNDgGv2PvrbD"
   },
   "outputs": [],
   "source": [
    "np.random.seed(0)"
   ]
  },
  {
   "cell_type": "code",
   "execution_count": 13,
   "metadata": {
    "colab": {},
    "colab_type": "code",
    "id": "ge3VGmF7AtzG"
   },
   "outputs": [],
   "source": [
    "TARGET_R2 = 0.595"
   ]
  },
  {
   "cell_type": "code",
   "execution_count": 14,
   "metadata": {
    "colab": {},
    "colab_type": "code",
    "id": "hq18RXCkB7zY"
   },
   "outputs": [],
   "source": [
    "def log_noise(y, noise_mean):\n",
    "    return np.exp(np.log(y) + noise_mean * np.random.randn(len(y)))"
   ]
  },
  {
   "cell_type": "code",
   "execution_count": 15,
   "metadata": {
    "colab": {},
    "colab_type": "code",
    "id": "1NgOxg0_CzgZ"
   },
   "outputs": [],
   "source": [
    "def r2(noise_mean):\n",
    "    y_noise = log_noise(u.y0, noise_mean)\n",
    "    r = np.corrcoef(np.log(u.y0), np.log(y_noise))[0, 1]\n",
    "    return np.power(r, 2)"
   ]
  },
  {
   "cell_type": "code",
   "execution_count": 16,
   "metadata": {
    "colab": {
     "base_uri": "https://localhost:8080/",
     "height": 35
    },
    "colab_type": "code",
    "id": "smNdATN9Dl7l",
    "outputId": "69e25bf8-794f-4417-cec6-0a2feac808fd"
   },
   "outputs": [
    {
     "data": {
      "text/plain": [
       "0.5981376687619906"
      ]
     },
     "execution_count": 16,
     "metadata": {},
     "output_type": "execute_result"
    }
   ],
   "source": [
    "NOISE_LEVEL = 1.37\n",
    "r2(NOISE_LEVEL)  # Close to 0.595."
   ]
  },
  {
   "cell_type": "code",
   "execution_count": 17,
   "metadata": {
    "colab": {
     "base_uri": "https://localhost:8080/",
     "height": 35
    },
    "colab_type": "code",
    "id": "-tH4FfW_EuCU",
    "outputId": "211223f3-d036-45a6-f8a5-3dc794f8840b"
   },
   "outputs": [
    {
     "data": {
      "text/plain": [
       "0.2709802289873735"
      ]
     },
     "execution_count": 17,
     "metadata": {},
     "output_type": "execute_result"
    }
   ],
   "source": [
    "r2(NOISE_LEVEL * 2)"
   ]
  },
  {
   "cell_type": "code",
   "execution_count": 18,
   "metadata": {
    "colab": {},
    "colab_type": "code",
    "id": "jOpw6yOflK9a"
   },
   "outputs": [],
   "source": [
    "u['y0_l_noise'] = log_noise(u.y0, NOISE_LEVEL)\n",
    "u['y0_h_noise'] = log_noise(u.y0, NOISE_LEVEL * 2)"
   ]
  },
  {
   "cell_type": "markdown",
   "metadata": {
    "colab_type": "text",
    "id": "hnlPXhVNpEKJ"
   },
   "source": [
    "Re-rank."
   ]
  },
  {
   "cell_type": "code",
   "execution_count": 19,
   "metadata": {
    "colab": {},
    "colab_type": "code",
    "id": "rZn4t51To9yc"
   },
   "outputs": [],
   "source": [
    "u.sort_values('y0_l_noise', inplace=True)\n",
    "u['y0_rank_l_noise'] = u.w.cumsum()\n",
    "u['y0_pr_l_noise'] = u.y0_rank_l_noise / u.w.sum()"
   ]
  },
  {
   "cell_type": "code",
   "execution_count": 20,
   "metadata": {
    "colab": {},
    "colab_type": "code",
    "id": "1kSxJsw3wHB_"
   },
   "outputs": [],
   "source": [
    "u.sort_values('y0_h_noise', inplace=True)\n",
    "u['y0_rank_h_noise'] = u.w.cumsum()\n",
    "u['y0_pr_h_noise'] = u.y0_rank_h_noise / u.w.sum()"
   ]
  },
  {
   "cell_type": "markdown",
   "metadata": {
    "colab_type": "text",
    "id": "7lyBjH5qpjRj"
   },
   "source": [
    "Check R-squared from noisy to true income rank.\n",
    "\n",
    "**Low noise**"
   ]
  },
  {
   "cell_type": "code",
   "execution_count": 21,
   "metadata": {
    "colab": {
     "base_uri": "https://localhost:8080/",
     "height": 35
    },
    "colab_type": "code",
    "id": "8S_qKf8Qlxgp",
    "outputId": "d1aa2426-4e8f-425c-981c-189eda220143"
   },
   "outputs": [
    {
     "data": {
      "text/plain": [
       "0.5128437390086074"
      ]
     },
     "execution_count": 21,
     "metadata": {},
     "output_type": "execute_result"
    }
   ],
   "source": [
    "u[['y0_rank', 'y0_rank_l_noise']].corr().iloc[0, 1]"
   ]
  },
  {
   "cell_type": "markdown",
   "metadata": {
    "colab_type": "text",
    "id": "jCFn8YMnwWE3"
   },
   "source": [
    "**High noise**"
   ]
  },
  {
   "cell_type": "code",
   "execution_count": 22,
   "metadata": {
    "colab": {
     "base_uri": "https://localhost:8080/",
     "height": 35
    },
    "colab_type": "code",
    "id": "x40FZ9JFwY4G",
    "outputId": "4d64d984-6c8d-41dc-a887-d356b21dfca4"
   },
   "outputs": [
    {
     "data": {
      "text/plain": [
       "0.3205836508134436"
      ]
     },
     "execution_count": 22,
     "metadata": {},
     "output_type": "execute_result"
    }
   ],
   "source": [
    "u[['y0_rank', 'y0_rank_h_noise']].corr().iloc[0, 1]"
   ]
  },
  {
   "cell_type": "markdown",
   "metadata": {
    "colab_type": "text",
    "id": "FgdiYIX3mtgX"
   },
   "source": [
    "## Analysis\n",
    "\n",
    "### Define CRRA function"
   ]
  },
  {
   "cell_type": "code",
   "execution_count": 23,
   "metadata": {
    "colab": {},
    "colab_type": "code",
    "id": "m5KoL8GGqFE4"
   },
   "outputs": [],
   "source": [
    "def crra(y, w=None, rho=3):\n",
    "    \"\"\" Constant relative risk-aversion social welfare function.\n",
    "\n",
    "    Args:\n",
    "        y: Array of after-tax after-transfer income.\n",
    "        w: Optional array of weights. Should be the same length as y.\n",
    "        rho: Coefficient of relative risk-aversion, where higher values of rho\n",
    "             put higher weights on transfers received by the very poor.\n",
    "             Defaults to 3 per Hanna and Olken (2018).\n",
    "        \n",
    "    Returns:\n",
    "        CRRA SWF. Also sets any value below 1 to 1.\n",
    "    \"\"\"\n",
    "    num = np.power(np.array(y, dtype=float), 1 - rho)\n",
    "    if w is not None:\n",
    "        num *= w\n",
    "    return num.sum() / (1 - rho)"
   ]
  },
  {
   "cell_type": "markdown",
   "metadata": {
    "colab_type": "text",
    "id": "Zo8Jmm_Tee5-"
   },
   "source": [
    "Status quo CRRA value."
   ]
  },
  {
   "cell_type": "code",
   "execution_count": 24,
   "metadata": {
    "colab": {
     "base_uri": "https://localhost:8080/",
     "height": 35
    },
    "colab_type": "code",
    "id": "v5q-InfFqypN",
    "outputId": "0b702c47-ca7c-484c-b2ab-8b06c5cc38e3"
   },
   "outputs": [
    {
     "data": {
      "text/plain": [
       "-1542708.9725729444"
      ]
     },
     "execution_count": 24,
     "metadata": {},
     "output_type": "execute_result"
    }
   ],
   "source": [
    "crra0 = crra(u.y0, u.w)\n",
    "crra0"
   ]
  },
  {
   "cell_type": "markdown",
   "metadata": {
    "colab_type": "text",
    "id": "fIRbzrfFK_QP"
   },
   "source": [
    "### Define horizontal equity function\n",
    "\n",
    "From Hanna and Olken (2018):\n",
    ">At each cutoff c, we calculate, for each household, the percentage of households within ±5 income percentiles (based on actual income) that received the same benefit status—included or excluded—based on the results of proxy-means test prediction. In other words, for households that were included in the program at a given c, we calculate the percentage of similar households that were also included; for households that were excluded, we calculate the percentage of similar households that were also excluded.\n",
    "\n",
    "**TODO**"
   ]
  },
  {
   "cell_type": "markdown",
   "metadata": {
    "colab_type": "text",
    "id": "JYBFdfflLPCE"
   },
   "source": [
    "### Define simulation function"
   ]
  },
  {
   "cell_type": "code",
   "execution_count": 25,
   "metadata": {
    "colab": {},
    "colab_type": "code",
    "id": "-BNupTBNSEIn"
   },
   "outputs": [],
   "source": [
    "total_hhs = u.w.sum()  # Number of SPM units."
   ]
  },
  {
   "cell_type": "code",
   "execution_count": 26,
   "metadata": {
    "colab": {},
    "colab_type": "code",
    "id": "L2OkrZ0xoVNK"
   },
   "outputs": [],
   "source": [
    "def simulate(budget_share_of_gdp, pr_threshold, ubi_share, income_pr_col):\n",
    "    \"\"\" Simulate a transfer split between targeted and UBI components.\n",
    "\n",
    "    Args:\n",
    "        budget_share_of_gdp: Total budget to be split between targeted and UBI\n",
    "                             components, as a share of US GDP (0 to 100).\n",
    "        pr_threshold: Percentrank below which households get the targeted\n",
    "                      transfer. 0 to 100.\n",
    "        ubi_share: Number between 0 and 100 representing the share of the\n",
    "                   transfer that goes to a UBI.\n",
    "        income_col: Column indicating the income percent rank (true or noisy).\n",
    "    \n",
    "    Returns:\n",
    "    \"\"\"\n",
    "    budget = US_GDP * budget_share_of_gdp / 100\n",
    "    ubi_budget = budget * (ubi_share / 100)\n",
    "    targeted_budget = budget * (1 - ubi_share / 100)\n",
    "    ubi_amount = ubi_budget / total_hhs\n",
    "    target_idx = u[income_pr_col] < (pr_threshold / 100)\n",
    "    target_hhs = u[target_idx].w.sum()\n",
    "    targeted_amount = targeted_budget / target_hhs\n",
    "    return u.y0 + ubi_amount + np.where(target_idx, targeted_amount, 0)"
   ]
  },
  {
   "cell_type": "markdown",
   "metadata": {
    "colab_type": "text",
    "id": "3jAq77FXjbMs"
   },
   "source": [
    "## Simulate\n",
    "\n",
    "Cartesian product function from https://github.com/MaxGhenis/microdf/blob/master/microdf/utils.py"
   ]
  },
  {
   "cell_type": "code",
   "execution_count": 27,
   "metadata": {
    "colab": {},
    "colab_type": "code",
    "id": "7U5WMCQNjj7b"
   },
   "outputs": [],
   "source": [
    "SIMX = {\n",
    "    'budget_share_of_gdp': [0.01, 0.1, 0.2, 0.5, 1, 5],\n",
    "    'noise_col': ['y0_pr', 'y0_pr_l_noise', 'y0_pr_h_noise'],\n",
    "    'pr_threshold': np.arange(0, 101, 1),\n",
    "    'ubi_share': np.arange(0, 101, 1)\n",
    "    }\n",
    "sim = mdf.cartesian_product(SIMX)"
   ]
  },
  {
   "cell_type": "markdown",
   "metadata": {
    "colab_type": "text",
    "id": "UmvRUP0fTR6A"
   },
   "source": [
    "Usually takes 25 minutes."
   ]
  },
  {
   "cell_type": "code",
   "execution_count": 28,
   "metadata": {
    "colab": {},
    "colab_type": "code",
    "id": "APxHdrZskq-M"
   },
   "outputs": [
    {
     "name": "stderr",
     "output_type": "stream",
     "text": [
      "/home/mghenis/miniconda3/lib/python3.7/site-packages/ipykernel_launcher.py:21: RuntimeWarning: divide by zero encountered in double_scalars\n",
      "/home/mghenis/miniconda3/lib/python3.7/site-packages/ipykernel_launcher.py:21: RuntimeWarning: divide by zero encountered in double_scalars\n",
      "/home/mghenis/miniconda3/lib/python3.7/site-packages/ipykernel_launcher.py:21: RuntimeWarning: invalid value encountered in double_scalars\n",
      "/home/mghenis/miniconda3/lib/python3.7/site-packages/ipykernel_launcher.py:21: RuntimeWarning: invalid value encountered in double_scalars\n",
      "/home/mghenis/miniconda3/lib/python3.7/site-packages/ipykernel_launcher.py:21: RuntimeWarning: divide by zero encountered in double_scalars\n",
      "/home/mghenis/miniconda3/lib/python3.7/site-packages/ipykernel_launcher.py:21: RuntimeWarning: invalid value encountered in double_scalars\n",
      "/home/mghenis/miniconda3/lib/python3.7/site-packages/ipykernel_launcher.py:21: RuntimeWarning: divide by zero encountered in double_scalars\n",
      "/home/mghenis/miniconda3/lib/python3.7/site-packages/ipykernel_launcher.py:21: RuntimeWarning: invalid value encountered in double_scalars\n"
     ]
    },
    {
     "name": "stdout",
     "output_type": "stream",
     "text": [
      "CPU times: user 1.72 s, sys: 808 ms, total: 2.53 s\n",
      "Wall time: 24min 21s\n"
     ]
    }
   ],
   "source": [
    "%%time\n",
    "sim['crra'] = sim.parallel_apply(\n",
    "    lambda row: crra(simulate(row.budget_share_of_gdp, row.pr_threshold,\n",
    "                              row.ubi_share, row.noise_col)),\n",
    "    axis=1)"
   ]
  },
  {
   "cell_type": "markdown",
   "metadata": {
    "colab_type": "text",
    "id": "-EQJrpbN96Vd"
   },
   "source": [
    "## Postprocess\n",
    "Make the noise column a category."
   ]
  },
  {
   "cell_type": "code",
   "execution_count": 29,
   "metadata": {
    "colab": {},
    "colab_type": "code",
    "id": "EwPVFsyC9-NB"
   },
   "outputs": [],
   "source": [
    "sim['noise'] = pd.Categorical(\n",
    "    np.where(sim.noise_col == 'y0_pr', 'No noise',\n",
    "             np.where(sim.noise_col == 'y0_pr_l_noise', 'Low noise',\n",
    "                      'High noise')),\n",
    "                      categories = ['No noise', 'Low noise', 'High noise'])"
   ]
  },
  {
   "cell_type": "code",
   "execution_count": 30,
   "metadata": {
    "colab": {},
    "colab_type": "code",
    "id": "1YJ2zRnLI_-7"
   },
   "outputs": [],
   "source": [
    "sim.drop(['noise_col'], axis=1, inplace=True)"
   ]
  },
  {
   "cell_type": "markdown",
   "metadata": {},
   "source": [
    "## Export"
   ]
  },
  {
   "cell_type": "code",
   "execution_count": 31,
   "metadata": {},
   "outputs": [],
   "source": [
    "sim.to_csv('sim.csv', index=False)"
   ]
  }
 ],
 "metadata": {
  "colab": {
   "collapsed_sections": [],
   "name": "hanna_olken_2018_extension.ipynb",
   "provenance": []
  },
  "kernelspec": {
   "display_name": "Python 3",
   "language": "python",
   "name": "python3"
  },
  "language_info": {
   "codemirror_mode": {
    "name": "ipython",
    "version": 3
   },
   "file_extension": ".py",
   "mimetype": "text/x-python",
   "name": "python",
   "nbconvert_exporter": "python",
   "pygments_lexer": "ipython3",
   "version": "3.7.5"
  }
 },
 "nbformat": 4,
 "nbformat_minor": 1
}
